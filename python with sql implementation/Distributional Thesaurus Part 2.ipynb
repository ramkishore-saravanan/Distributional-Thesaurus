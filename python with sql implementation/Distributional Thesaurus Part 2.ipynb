{
 "cells": [
  {
   "cell_type": "markdown",
   "metadata": {},
   "source": [
    "# JoBimText: Creating Distributional Thesaurus\n",
    "**PART 2 :** Similarity measures, Pruning, Aggregation and Sorting"
   ]
  },
  {
   "cell_type": "markdown",
   "metadata": {},
   "source": [
    "### Import required libraries"
   ]
  },
  {
   "cell_type": "code",
   "execution_count": 2,
   "metadata": {},
   "outputs": [],
   "source": [
    "import sqlite3"
   ]
  },
  {
   "cell_type": "markdown",
   "metadata": {},
   "source": [
    "### Open Database `thesaurus.db`"
   ]
  },
  {
   "cell_type": "code",
   "execution_count": 3,
   "metadata": {},
   "outputs": [],
   "source": [
    "conn = sqlite3.connect('thesaurus.db')\n",
    "c = conn.cursor()"
   ]
  },
  {
   "cell_type": "markdown",
   "metadata": {},
   "source": [
    "### Create table with LE-CF and corresponding Similarity measure\n",
    "We 'll use PMI here"
   ]
  },
  {
   "cell_type": "code",
   "execution_count": 3,
   "metadata": {},
   "outputs": [],
   "source": [
    "c.execute(\"DROP TABLE IF EXISTS sm;\")\n",
    "\n",
    "# This table's has ids corresponding to lecf's\n",
    "c.execute('''CREATE TABLE sm\n",
    "            (id INTEGER PRIMARY KEY,\n",
    "            pmi FLOAT NOT NULL)''')\n",
    "\n",
    "conn.commit()"
   ]
  },
  {
   "cell_type": "markdown",
   "metadata": {},
   "source": [
    "### Calculating PMI from tables LE, CF and LE-CF\n",
    "* `pmi = le-cf.count/(le.count * cf.count)`\n",
    "* For each row of LE-CF table, compute `PMI` and insert it into `sm`"
   ]
  },
  {
   "cell_type": "code",
   "execution_count": 4,
   "metadata": {},
   "outputs": [],
   "source": [
    "c.execute('''\n",
    "INSERT INTO sm (pmi, id)\n",
    "SELECT pmi, id FROM\n",
    "(SELECT lecfc * 1.0/(lec*cfc) as pmi,\n",
    "lecfid as id from\n",
    "    (SELECT lecf.id, \n",
    "            lecf.le as leid, \n",
    "            lecf.cf as cfid, \n",
    "            le.count as lec,\n",
    "            le.name as lename,\n",
    "            cf.count as cfc,\n",
    "            lecf.count as lecfc,\n",
    "            lecf.id as lecfid\n",
    "        from lecf, le, cf\n",
    "        where leid == le.id and cfid == cf.id)\n",
    "        )''')\n",
    "conn.commit()"
   ]
  },
  {
   "cell_type": "markdown",
   "metadata": {},
   "source": [
    "### The next step is Pruning\n",
    "* Remove from `sm` values with `PMI` less than some limit\n",
    "* Since the corpus is very small, we'll also set the pruning limit to be very small\n",
    "* `pruning limit = 1.0/32768`"
   ]
  },
  {
   "cell_type": "markdown",
   "metadata": {},
   "source": [
    "### Create Pruned Similarity Measure `psm` Table:"
   ]
  },
  {
   "cell_type": "code",
   "execution_count": 48,
   "metadata": {},
   "outputs": [],
   "source": [
    "c.execute(\"drop table if exists psm\")\n",
    "c.execute(\"drop table if exists simcount\")\n",
    "\n",
    "c.execute('''\n",
    "CREATE TABLE psm (\n",
    "id INTEGER PRIMARY KEY NOT NULL,\n",
    "pmi FLOAT NOT NULL\n",
    ")''')\n",
    "\n",
    "c.execute('''\n",
    "INSERT INTO psm (pmi, id)\n",
    "SELECT pmi, id from sm where pmi > 1.0/(1024)\n",
    "''')\n",
    "\n",
    "c.execute('''\n",
    "CREATE TABLE simcount (\n",
    "le1 INTEGER NOT NULL,\n",
    "le2 INTEGER NOT NULL,\n",
    "count INT NOT NULL\n",
    ")''')\n",
    "\n",
    "conn.commit()"
   ]
  },
  {
   "cell_type": "markdown",
   "metadata": {},
   "source": [
    "### Creating the Similarity count Table\n",
    "* This step integrates the aggregate per feature table, it is not possible to have such a table in RDBMS.\n",
    "* So from the pruned data we directly compute similarity counts with the number of Context-Features each Language-Element shares with every other."
   ]
  },
  {
   "cell_type": "code",
   "execution_count": 49,
   "metadata": {},
   "outputs": [],
   "source": [
    "c.execute('''\n",
    "INSERT INTO simcount (le1, le2, count)\n",
    "SELECT E.id, F.id, count(*) FROM\n",
    "(SELECT A.id, B.id, \n",
    "        C.le as le1, C.cf as cf, C.id,\n",
    "        D.le as le2, D.cf, D.id\n",
    "    FROM psm AS A, \n",
    "         psm AS B,\n",
    "         lecf AS C,\n",
    "         lecf AS D\n",
    "    WHERE A.id == C.id AND\n",
    "          B.id == D.id AND\n",
    "          C.cf == D.cf AND\n",
    "          C.le <> D.le) AS sim, le AS E, le AS F \n",
    "                          where SIM.le1 == E.id AND\n",
    "                                SIM.le2 == F.id\n",
    "                            GROUP BY E.name, F.name\n",
    "''')\n",
    "conn.commit()"
   ]
  },
  {
   "cell_type": "markdown",
   "metadata": {},
   "source": [
    "### Querying the thesaurus:\n",
    "* Now we just query the `DB` for synonyms of the given word.\n",
    "* The results are sorted according to similarity counts."
   ]
  },
  {
   "cell_type": "code",
   "execution_count": 4,
   "metadata": {},
   "outputs": [],
   "source": [
    "def query_Thesaurus(word):\n",
    "    for i in c.execute('''\n",
    "    select a.name, b.name, c.count from \n",
    "    simcount as c, le as a, le as b \n",
    "    where a.id == c.le1 and \n",
    "            b.id == c.le2 and \n",
    "            c.count > 2 and \n",
    "            a.name == '{}' order by c.count desc;'''.format(word)).fetchall():\n",
    "        print(i)"
   ]
  },
  {
   "cell_type": "markdown",
   "metadata": {},
   "source": [
    "## Some intresting Results:"
   ]
  },
  {
   "cell_type": "code",
   "execution_count": 5,
   "metadata": {},
   "outputs": [
    {
     "name": "stdout",
     "output_type": "stream",
     "text": [
      "('many', 'Some', 6)\n",
      "('many', 'Many', 5)\n",
      "('many', 'other', 5)\n",
      "('many', 'two', 5)\n",
      "('many', 'These', 4)\n",
      "('many', 'different', 4)\n",
      "('many', 'numerous', 4)\n",
      "('many', 'Several', 3)\n",
      "('many', 'any', 3)\n",
      "('many', 'four', 3)\n",
      "('many', 'most', 3)\n",
      "('many', 'several', 3)\n",
      "('many', 'these', 3)\n",
      "('many', 'various', 3)\n"
     ]
    }
   ],
   "source": [
    "query_Thesaurus(\"many\")"
   ]
  },
  {
   "cell_type": "code",
   "execution_count": 6,
   "metadata": {},
   "outputs": [
    {
     "name": "stdout",
     "output_type": "stream",
     "text": [
      "('livestock', 'sheep', 6)\n",
      "('livestock', 'were', 4)\n",
      "('livestock', 'bison', 3)\n",
      "('livestock', 'him', 3)\n",
      "('livestock', 'two', 3)\n"
     ]
    }
   ],
   "source": [
    "query_Thesaurus(\"livestock\")"
   ]
  },
  {
   "cell_type": "code",
   "execution_count": 7,
   "metadata": {},
   "outputs": [
    {
     "name": "stdout",
     "output_type": "stream",
     "text": [
      "('several', 'Most', 4)\n",
      "('several', 'different', 4)\n",
      "('several', 'three', 4)\n",
      "('several', 'two', 4)\n",
      "('several', 'Both', 3)\n",
      "('several', 'Many', 3)\n",
      "('several', 'Several', 3)\n",
      "('several', 'both', 3)\n",
      "('several', 'five', 3)\n",
      "('several', 'many', 3)\n",
      "('several', 'other', 3)\n",
      "('several', 'some', 3)\n"
     ]
    }
   ],
   "source": [
    "query_Thesaurus(\"several\")"
   ]
  },
  {
   "cell_type": "code",
   "execution_count": 8,
   "metadata": {},
   "outputs": [
    {
     "name": "stdout",
     "output_type": "stream",
     "text": [
      "('mm', 'cm', 7)\n",
      "('mm', 'inches', 6)\n",
      "('mm', 'centimeters', 5)\n",
      "('mm', 'grows', 5)\n",
      "('mm', 'approximately', 4)\n",
      "('mm', 'grow', 4)\n",
      "('mm', 'mm', 4)\n",
      "('mm', 'range', 4)\n",
      "('mm', 'carapace', 3)\n",
      "('mm', 'feet', 3)\n",
      "('mm', 'measures', 3)\n",
      "('mm', 'millimeter', 3)\n",
      "('mm', 'reach', 3)\n",
      "('mm', 'reached', 3)\n",
      "('mm', 'reaches', 3)\n",
      "('mm', 'weighs', 3)\n"
     ]
    }
   ],
   "source": [
    "query_Thesaurus(\"mm\")"
   ]
  },
  {
   "cell_type": "code",
   "execution_count": 9,
   "metadata": {},
   "outputs": [
    {
     "name": "stdout",
     "output_type": "stream",
     "text": [
      "('four', 'three', 5)\n",
      "('four', 'two', 4)\n",
      "('four', 'All', 3)\n",
      "('four', 'many', 3)\n"
     ]
    }
   ],
   "source": [
    "query_Thesaurus(\"four\")"
   ]
  },
  {
   "cell_type": "code",
   "execution_count": 19,
   "metadata": {},
   "outputs": [
    {
     "name": "stdout",
     "output_type": "stream",
     "text": [
      "('injury', 'that', 3)\n"
     ]
    }
   ],
   "source": [
    "query_Thesaurus(\"injury\")"
   ]
  },
  {
   "cell_type": "code",
   "execution_count": null,
   "metadata": {},
   "outputs": [],
   "source": []
  }
 ],
 "metadata": {
  "kernelspec": {
   "display_name": "Python 3",
   "language": "python",
   "name": "python3"
  },
  "language_info": {
   "codemirror_mode": {
    "name": "ipython",
    "version": 3
   },
   "file_extension": ".py",
   "mimetype": "text/x-python",
   "name": "python",
   "nbconvert_exporter": "python",
   "pygments_lexer": "ipython3",
   "version": "3.6.5"
  }
 },
 "nbformat": 4,
 "nbformat_minor": 2
}
