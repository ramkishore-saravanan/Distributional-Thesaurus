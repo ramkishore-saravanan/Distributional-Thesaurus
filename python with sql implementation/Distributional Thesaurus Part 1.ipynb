{
 "cells": [
  {
   "cell_type": "markdown",
   "metadata": {},
   "source": [
    "# JoBimText: Creation of Distributional Thesaurus\n",
    "**PART 1 :**  Preprocessing and Creating Initial Databases"
   ]
  },
  {
   "cell_type": "markdown",
   "metadata": {},
   "source": [
    "### Import Libraries required"
   ]
  },
  {
   "cell_type": "code",
   "execution_count": 1,
   "metadata": {},
   "outputs": [],
   "source": [
    "import sqlite3"
   ]
  },
  {
   "cell_type": "markdown",
   "metadata": {},
   "source": [
    "### Import the parsed sentences of the mouse corpus"
   ]
  },
  {
   "cell_type": "code",
   "execution_count": 2,
   "metadata": {},
   "outputs": [],
   "source": [
    "from parsed.output import sentence as parserOutput1\n",
    "from parsed.output2 import sentence as parserOutput2\n",
    "from parsed.output3 import sentence as parserOutput3\n",
    "from parsed.output4 import sentence as parserOutput4\n",
    "from parsed.output5 import sentence as parserOutput5"
   ]
  },
  {
   "cell_type": "markdown",
   "metadata": {},
   "source": [
    "### Concatenate all the parsed sentences"
   ]
  },
  {
   "cell_type": "code",
   "execution_count": 3,
   "metadata": {},
   "outputs": [
    {
     "name": "stdout",
     "output_type": "stream",
     "text": [
      "Total sentences: 20891\n",
      "Sample parse: (('concludes', 'VBZ'), 'nsubj', ('device', 'NN'))\n"
     ]
    }
   ],
   "source": [
    "parserOutput1.extend(parserOutput2)\n",
    "parserOutput1.extend(parserOutput3)\n",
    "parserOutput1.extend(parserOutput4)\n",
    "parserOutput1.extend(parserOutput5)\n",
    "\n",
    "print(\"Total sentences:\", len(parserOutput1))\n",
    "print(\"Sample parse:\", parserOutput1[0][0])"
   ]
  },
  {
   "cell_type": "markdown",
   "metadata": {},
   "source": [
    "### Initialize cursor for DB"
   ]
  },
  {
   "cell_type": "code",
   "execution_count": 7,
   "metadata": {},
   "outputs": [
    {
     "data": {
      "text/plain": [
       "[('sqlite_sequence',),\n",
       " ('le',),\n",
       " ('cf',),\n",
       " ('lecf',),\n",
       " ('sm',),\n",
       " ('psm',),\n",
       " ('simcount',)]"
      ]
     },
     "execution_count": 7,
     "metadata": {},
     "output_type": "execute_result"
    }
   ],
   "source": [
    "conn = sqlite3.connect('thesaurus.db')\n",
    "c = conn.cursor()\n",
    "c.execute('''SELECT name FROM sqlite_master WHERE type=\"table\";''').fetchall()"
   ]
  },
  {
   "cell_type": "markdown",
   "metadata": {},
   "source": [
    "### Create the first 3 tables\n",
    "* Language Elements (LE)\n",
    "* Context Features (CF)\n",
    "* LE-CF"
   ]
  },
  {
   "cell_type": "code",
   "execution_count": 16,
   "metadata": {},
   "outputs": [],
   "source": [
    "c.execute(\"drop table if exists le\")\n",
    "\n",
    "# table for language elements\n",
    "c.execute('''CREATE TABLE le (\n",
    "            id integer primary key autoincrement,\n",
    "            name text not null,\n",
    "            pos text not null,\n",
    "            count int not null,\n",
    "            \n",
    "            CONSTRAINT uniqueConstraint UNIQUE(name, pos)            \n",
    "         );\n",
    "''')\n",
    "\n",
    "\n",
    "c.execute(\"insert into le (id, name, pos, count) values(1, '@', 'hole', 0)\")\n",
    "conn.commit()"
   ]
  },
  {
   "cell_type": "code",
   "execution_count": 17,
   "metadata": {},
   "outputs": [],
   "source": [
    "c.execute(\"drop table if exists cf\")\n",
    "\n",
    "# table for context features\n",
    "c.execute('''CREATE TABLE cf\n",
    "            (id integer primary key autoincrement,\n",
    "            le1 integer not null,\n",
    "            le2 integer not null,\n",
    "            rel text not null,\n",
    "            count int not null,\n",
    "            \n",
    "            foreign key(le1) references le(id) on delete cascade,\n",
    "            foreign key(le2) references le(id) on delete cascade\n",
    "            \n",
    "            constraint uniqueConstraint UNIQUE(le1, le2, rel)\n",
    "            );\n",
    "''')\n",
    "\n",
    "conn.commit()"
   ]
  },
  {
   "cell_type": "code",
   "execution_count": 18,
   "metadata": {},
   "outputs": [],
   "source": [
    "c.execute(\"drop table if exists lecf\")\n",
    "\n",
    "# table for le-cfs\n",
    "c.execute('''CREATE TABLE lecf (\n",
    "            id integer primary key autoincrement,\n",
    "            le integer not null, \n",
    "            cf integer not null,\n",
    "            count int not null,\n",
    "            \n",
    "            foreign key(le) references le(id) on update cascade on delete cascade,\n",
    "            foreign key(cf) references cf(id) on update cascade on delete cascade,\n",
    "            \n",
    "            constraint uniqueConstraint unique(le, cf)\n",
    "            )''')\n",
    "\n",
    "conn.commit()"
   ]
  },
  {
   "cell_type": "markdown",
   "metadata": {},
   "source": [
    "## Filling the DB with the parsed data"
   ]
  },
  {
   "cell_type": "markdown",
   "metadata": {},
   "source": [
    "##### All of the update functions have the same structure\n",
    "* If row with parameters passed already exists in the DB, update it with `count = count + 1`\n",
    "* Else create row with `count = 1`"
   ]
  },
  {
   "cell_type": "code",
   "execution_count": 19,
   "metadata": {},
   "outputs": [],
   "source": [
    "def update_le(name, pos):\n",
    "    if not name.isalpha():\n",
    "        name = spl\n",
    "    row = c.execute('''select * from le where name='{}' and pos='{}' '''.format(name, pos)).fetchone()\n",
    "    if row is None:\n",
    "        c.execute('''insert into le (name, pos, count) values('{}', '{}', '{}')'''.format(name, pos, str(1)))\n",
    "    else:\n",
    "        c.execute('''update le set count={} where name='{}' and pos='{}' '''.format(row[3]+1, name, pos))\n",
    "        return row[0]\n",
    "    \n",
    "    conn.commit()\n",
    "    return c.execute('''select id from le where name='{}' and pos='{}' '''.format(name, pos)).fetchone()[0]"
   ]
  },
  {
   "cell_type": "code",
   "execution_count": 20,
   "metadata": {},
   "outputs": [],
   "source": [
    "def update_cf(le1, le2, rel):\n",
    "    row = c.execute('''select id, count from cf where le1='{}' and le2='{}' '''.format(le1, le2)).fetchone()\n",
    "    if row is None:\n",
    "        c.execute('''insert into cf (le1, le2, rel, count) values('{}', '{}', '{}', '{}') '''.format(le1, le2, rel, 1))\n",
    "    else:\n",
    "        c.execute('''update cf set count={} where le1='{}' and le2='{}' and rel='{}' '''.format(row[1]+1, le1, le2, rel))\n",
    "        return row[0]\n",
    "    \n",
    "    conn.commit()\n",
    "    return c.execute('''select id from cf where le1='{}' and le2='{}' and rel='{}' '''.format(le1, \n",
    "                                                                                            le2, rel)).fetchone()[0]"
   ]
  },
  {
   "cell_type": "code",
   "execution_count": 21,
   "metadata": {},
   "outputs": [],
   "source": [
    "def update_le_cf(le, cf):\n",
    "    row = c.execute('''select count from lecf where le='{}' and cf='{}' '''.format(le, cf)).fetchone()\n",
    "    if row is None:\n",
    "        c.execute('''insert into lecf (le, cf, count) values('{}', '{}', '{}')'''.format(le, cf, 1))\n",
    "    else:\n",
    "        c.execute('''update lecf set count={} where le='{}' and cf='{}' '''.format(row[0]+1, le, cf))\n",
    "    conn.commit()"
   ]
  },
  {
   "cell_type": "markdown",
   "metadata": {},
   "source": [
    "#### Filling in values for tables LE, CF AND LE-CF from the parsed data\n",
    "##### For each relation\n",
    "* Replace words that have non alphabetic character with special token `@spl@`\n",
    "* Update LE table\n",
    "* Apply Holing Operation on dependencies and create Context Features\n",
    "* Update CF table\n",
    "* Update LE-CF table."
   ]
  },
  {
   "cell_type": "code",
   "execution_count": 22,
   "metadata": {},
   "outputs": [],
   "source": [
    "spl = \"@spl@\"\n",
    "hole = [\"@\", \"hole\"]\n",
    "hole_id = c.execute(\"select id from le where name='@' and pos='hole'\").fetchone()[0]\n",
    "\n",
    "for parse in parserOutput1:\n",
    "    for dependency in parse:\n",
    "        w1 = dependency[0]\n",
    "        w2 = dependency[2]\n",
    "        rel = dependency[1]\n",
    "        \n",
    "        le1 = w1[0].replace(\"'\", r\"''\")\n",
    "        le2 = w2[0].replace(\"'\", r\"''\")\n",
    "        \n",
    "        # update le table:\n",
    "        w1_id = update_le(le1, w1[1])\n",
    "        w2_id = update_le(le2, w2[1])\n",
    "        \n",
    "        # update cf table with holing operation:\n",
    "        cf1_id = update_cf(hole_id, w2_id, rel)\n",
    "        cf2_id = update_cf(w1_id, hole_id, rel)\n",
    "        \n",
    "        # update le-cf table:\n",
    "        update_le_cf(w1_id, cf1_id)\n",
    "        update_le_cf(w2_id, cf2_id)\n",
    "        \n",
    "    conn.commit()"
   ]
  }
 ],
 "metadata": {
  "kernelspec": {
   "display_name": "Python 3",
   "language": "python",
   "name": "python3"
  },
  "language_info": {
   "codemirror_mode": {
    "name": "ipython",
    "version": 3
   },
   "file_extension": ".py",
   "mimetype": "text/x-python",
   "name": "python",
   "nbconvert_exporter": "python",
   "pygments_lexer": "ipython3",
   "version": "3.6.5"
  }
 },
 "nbformat": 4,
 "nbformat_minor": 2
}
